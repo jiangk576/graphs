{
 "cells": [
  {
   "cell_type": "markdown",
   "metadata": {
    "collapsed": true
   },
   "source": [
    "# Python notebook \n",
    "\n",
    "## In memory approach as opposed to a database\n",
    "Amazon co-purchase data analysis\n"
   ]
  },
  {
   "cell_type": "code",
   "execution_count": 239,
   "metadata": {
    "collapsed": true
   },
   "outputs": [],
   "source": [
    "import matplotlib.pyplot as plt\n",
    "import networkx as nx\n",
    "import pickle\n",
    "import pandas as pd\n",
    "from neo4jrestclient.client import GraphDatabase\n",
    "from neo4jrestclient.constants import RAW\n",
    "from neo4jrestclient.client import Node "
   ]
  },
  {
   "cell_type": "code",
   "execution_count": 240,
   "metadata": {
    "collapsed": true
   },
   "outputs": [],
   "source": [
    "file = 'C:/Users/moore/Dropbox/graphs/Amazon0601.txt'\n",
    "location_gml = 'C:/Users/moore/Dropbox/graphs/Amazon.gml'\n",
    "location_pickle = 'C:/Users/moore/Dropbox/graphs/Amazon.gpickle'\n",
    "file_meta = 'C:/Users/moore/Dropbox/graphs/Amazon-meta.txt'\n",
    "pickle_meta = 'C:/Users/moore/Dropbox/graphs/AmazonMeta.p'\n",
    "location_pairs = 'C:/Users/moore/Dropbox/graphs/Amazon.p'\n",
    "\n",
    "review_csv = 'C:/Users/moore/Dropbox/graphs/reviews.csv'\n",
    "sims_csv = 'C:/Users/moore/Dropbox/graphs/sims.csv'\n",
    "prods_csv = 'C:/Users/moore/Dropbox/graphs/prods.csv'\n",
    "bought_csv = 'C:/Users/moore/Dropbox/graphs/bought.csv'\n",
    "cats_csv = 'C:/Users/moore/Dropbox/graphs/cats.csv'\n",
    "prods_csv = 'C:/Users/moore/Dropbox/graphs/prods_dataframe.csv'\n",
    "product_details = 'C:/Users/moore/Dropbox/graphs/prods_data.p'\n",
    "pair_listing = 'C:/Users/moore/Dropbox/graphs/pair_list.p'\n",
    "pair_dictionary = 'C:/Users/moore/Dropbox/graphs/pair_dict.p'"
   ]
  },
  {
   "cell_type": "code",
   "execution_count": 241,
   "metadata": {
    "collapsed": true
   },
   "outputs": [],
   "source": [
    "def in_memory():\n",
    "    restructured = pickle.load(open(product_details, 'rb'))\n",
    "    pair_dict = pickle.load(open(pair_dictionary, 'rb'))\n",
    "    paths = pickle.load(open(pair_listing, 'rb')) \n",
    "    records = []\n",
    "    for path in paths:\n",
    "        dic = {}\n",
    "        pairs = (path[0],path[1])\n",
    "        try:\n",
    "            a = pair_dict[pairs[1]]\n",
    "        except:\n",
    "            a = 0\n",
    "        dic = {'Title': restructured[pairs[0]]['title'], \n",
    "           'co_purNum': pair_dict[pairs[0]], \n",
    "           'pair Title': restructured[pairs[1]]['title'], \n",
    "           'pair_Count': a}\n",
    "        records.append(dic)\n",
    "    \n",
    "    df = pd.DataFrame.from_records(records)\n",
    "    return df.shape"
   ]
  },
  {
   "cell_type": "code",
   "execution_count": 242,
   "metadata": {
    "collapsed": true
   },
   "outputs": [],
   "source": [
    "def neo4j():\n",
    "    from neo4jrestclient.client import GraphDatabase\n",
    "    from neo4jrestclient.constants import RAW\n",
    "    from neo4jrestclient.client import Node \n",
    "    q = \"\"\"MATCH p=(n)-[r:co_pur]->(w) RETURN n.title, n.id, n.cats, n.status, w.title, w.id, w.cats, w.status\"\"\"\n",
    "    db = GraphDatabase(\"http://localhost:7474/db/data\")\n",
    "    #retrieve a list of all nodes with the labels\n",
    "    params = {}\n",
    "    results = db.query(q, params=params, returns=RAW)\n",
    "    records = []\n",
    "    for prod in results:\n",
    "        records.append(prod)\n",
    "    \n",
    "    cols = ['n.title', 'n.id', 'n.cats', 'n.status', 'w.title', 'w.id', 'w.cats', 'w.status']\n",
    "    df = pd.DataFrame.from_records(records, columns=cols)  \n",
    "    return df.shape"
   ]
  },
  {
   "cell_type": "code",
   "execution_count": 243,
   "metadata": {},
   "outputs": [
    {
     "name": "stdout",
     "output_type": "stream",
     "text": [
      "(3387388, 4) returned from in-memory approach \n",
      "Wall time: 9.99 s\n"
     ]
    }
   ],
   "source": [
    "%%time\n",
    "shape=in_memory()\n",
    "print(shape, 'returned from in-memory approach ')"
   ]
  },
  {
   "cell_type": "code",
   "execution_count": 244,
   "metadata": {},
   "outputs": [
    {
     "name": "stdout",
     "output_type": "stream",
     "text": [
      "(3387388, 8) returned from Cypher query on local Neo4j database\n",
      "Wall time: 53.7 s\n"
     ]
    }
   ],
   "source": [
    "%%time\n",
    "shape=neo4j()\n",
    "print(shape, 'returned from Cypher query on local Neo4j database')"
   ]
  },
  {
   "cell_type": "code",
   "execution_count": 245,
   "metadata": {
    "collapsed": true
   },
   "outputs": [],
   "source": [
    "q = \"\"\"MATCH p=(n:Product) OPTIONAL MATCH (n)-[r:co_pur]->() RETURN n.id, n.status, n.sales_rank, count(r);\"\"\""
   ]
  },
  {
   "cell_type": "code",
   "execution_count": 246,
   "metadata": {},
   "outputs": [],
   "source": [
    "def neo4(q):\n",
    "    from neo4jrestclient.client import GraphDatabase\n",
    "    from neo4jrestclient.constants import RAW\n",
    "    from neo4jrestclient.client import Node \n",
    "    db = GraphDatabase(\"http://localhost:7474/db/data\")\n",
    "    #retrieve a list of all nodes with the labels\n",
    "    params = {}\n",
    "    results = db.query(q, params=params, returns=RAW)\n",
    "    records = []\n",
    "    for prod in results:\n",
    "        records.append(prod)  \n",
    "    return records    "
   ]
  },
  {
   "cell_type": "code",
   "execution_count": 267,
   "metadata": {
    "collapsed": true
   },
   "outputs": [],
   "source": [
    "q = \"\"\"MATCH p=(n:Product) OPTIONAL MATCH (n)-[r:co_pur]->() RETURN n.id, n.status, n.sales_rank, count(r);\"\"\"\n",
    "records = neo4(q)\n",
    "cols = ['n.id', 'n.status', 'n.sales_rank', 'count_sim']\n",
    "df = pd.DataFrame.from_records(records, columns=cols)  "
   ]
  },
  {
   "cell_type": "code",
   "execution_count": 268,
   "metadata": {},
   "outputs": [
    {
     "data": {
      "text/html": [
       "<div>\n",
       "<style scoped>\n",
       "    .dataframe tbody tr th:only-of-type {\n",
       "        vertical-align: middle;\n",
       "    }\n",
       "\n",
       "    .dataframe tbody tr th {\n",
       "        vertical-align: top;\n",
       "    }\n",
       "\n",
       "    .dataframe thead th {\n",
       "        text-align: right;\n",
       "    }\n",
       "</style>\n",
       "<table border=\"1\" class=\"dataframe\">\n",
       "  <thead>\n",
       "    <tr style=\"text-align: right;\">\n",
       "      <th></th>\n",
       "      <th>n.id</th>\n",
       "      <th>n.status</th>\n",
       "      <th>n.sales_rank</th>\n",
       "      <th>count_sim</th>\n",
       "    </tr>\n",
       "  </thead>\n",
       "  <tbody>\n",
       "    <tr>\n",
       "      <th>0</th>\n",
       "      <td>0684839385</td>\n",
       "      <td>active</td>\n",
       "      <td>1578</td>\n",
       "      <td>10</td>\n",
       "    </tr>\n",
       "    <tr>\n",
       "      <th>1</th>\n",
       "      <td>0375431500</td>\n",
       "      <td>active</td>\n",
       "      <td>712907</td>\n",
       "      <td>3</td>\n",
       "    </tr>\n",
       "    <tr>\n",
       "      <th>2</th>\n",
       "      <td>B000007WEG</td>\n",
       "      <td>active</td>\n",
       "      <td>114054</td>\n",
       "      <td>10</td>\n",
       "    </tr>\n",
       "    <tr>\n",
       "      <th>3</th>\n",
       "      <td>B00004TUS6</td>\n",
       "      <td>active</td>\n",
       "      <td>163174</td>\n",
       "      <td>10</td>\n",
       "    </tr>\n",
       "    <tr>\n",
       "      <th>4</th>\n",
       "      <td>0307106519</td>\n",
       "      <td>active</td>\n",
       "      <td>994870</td>\n",
       "      <td>7</td>\n",
       "    </tr>\n",
       "  </tbody>\n",
       "</table>\n",
       "</div>"
      ],
      "text/plain": [
       "         n.id n.status n.sales_rank  count_sim\n",
       "0  0684839385   active         1578         10\n",
       "1  0375431500   active       712907          3\n",
       "2  B000007WEG   active       114054         10\n",
       "3  B00004TUS6   active       163174         10\n",
       "4  0307106519   active       994870          7"
      ]
     },
     "execution_count": 268,
     "metadata": {},
     "output_type": "execute_result"
    }
   ],
   "source": [
    "df.head()"
   ]
  },
  {
   "cell_type": "code",
   "execution_count": 269,
   "metadata": {
    "collapsed": true
   },
   "outputs": [],
   "source": [
    "df['count_sim'] = df['count_sim'].fillna(0)\n",
    "df['n.sales_rank'] = df['n.sales_rank'].fillna(0)"
   ]
  },
  {
   "cell_type": "code",
   "execution_count": 270,
   "metadata": {},
   "outputs": [
    {
     "name": "stdout",
     "output_type": "stream",
     "text": [
      "<class 'pandas.core.frame.DataFrame'>\n",
      "RangeIndex: 548552 entries, 0 to 548551\n",
      "Data columns (total 4 columns):\n",
      "n.id            548552 non-null object\n",
      "n.status        548552 non-null object\n",
      "n.sales_rank    548552 non-null object\n",
      "count_sim       548552 non-null int64\n",
      "dtypes: int64(1), object(3)\n",
      "memory usage: 16.7+ MB\n"
     ]
    }
   ],
   "source": [
    "df.info()"
   ]
  },
  {
   "cell_type": "code",
   "execution_count": 271,
   "metadata": {},
   "outputs": [
    {
     "name": "stderr",
     "output_type": "stream",
     "text": [
      "C:\\Users\\moore\\Anaconda3\\lib\\site-packages\\sklearn\\utils\\validation.py:475: DataConversionWarning: Data with input dtype object was converted to float64 by MinMaxScaler.\n",
      "  warnings.warn(msg, DataConversionWarning)\n"
     ]
    }
   ],
   "source": [
    "import matplotlib.pyplot as plt\n",
    "from sklearn.preprocessing import MinMaxScaler\n",
    "scaler = MinMaxScaler()\n",
    "scaled = scaler.fit_transform(df['n.sales_rank'].values.reshape(-1, 1))\n",
    "df['scaled'] = scaled"
   ]
  },
  {
   "cell_type": "code",
   "execution_count": 272,
   "metadata": {},
   "outputs": [
    {
     "data": {
      "text/plain": [
       "count    548552.000000\n",
       "mean          0.127448\n",
       "std           0.149254\n",
       "min           0.000000\n",
       "25%           0.022571\n",
       "50%           0.077478\n",
       "75%           0.175329\n",
       "max           1.000000\n",
       "Name: scaled, dtype: float64"
      ]
     },
     "execution_count": 272,
     "metadata": {},
     "output_type": "execute_result"
    }
   ],
   "source": [
    "df['scaled'].describe()"
   ]
  },
  {
   "cell_type": "code",
   "execution_count": 273,
   "metadata": {},
   "outputs": [],
   "source": [
    "df['scaled'] = df.scaled.apply(lambda x: (x*100)).astype(int)"
   ]
  },
  {
   "cell_type": "code",
   "execution_count": 274,
   "metadata": {},
   "outputs": [
    {
     "data": {
      "text/html": [
       "<div>\n",
       "<style scoped>\n",
       "    .dataframe tbody tr th:only-of-type {\n",
       "        vertical-align: middle;\n",
       "    }\n",
       "\n",
       "    .dataframe tbody tr th {\n",
       "        vertical-align: top;\n",
       "    }\n",
       "\n",
       "    .dataframe thead th {\n",
       "        text-align: right;\n",
       "    }\n",
       "</style>\n",
       "<table border=\"1\" class=\"dataframe\">\n",
       "  <thead>\n",
       "    <tr style=\"text-align: right;\">\n",
       "      <th></th>\n",
       "      <th>n.id</th>\n",
       "      <th>n.status</th>\n",
       "      <th>n.sales_rank</th>\n",
       "      <th>count_sim</th>\n",
       "      <th>scaled</th>\n",
       "    </tr>\n",
       "  </thead>\n",
       "  <tbody>\n",
       "    <tr>\n",
       "      <th>0</th>\n",
       "      <td>0684839385</td>\n",
       "      <td>active</td>\n",
       "      <td>1578</td>\n",
       "      <td>10</td>\n",
       "      <td>0</td>\n",
       "    </tr>\n",
       "    <tr>\n",
       "      <th>1</th>\n",
       "      <td>0375431500</td>\n",
       "      <td>active</td>\n",
       "      <td>712907</td>\n",
       "      <td>3</td>\n",
       "      <td>18</td>\n",
       "    </tr>\n",
       "    <tr>\n",
       "      <th>2</th>\n",
       "      <td>B000007WEG</td>\n",
       "      <td>active</td>\n",
       "      <td>114054</td>\n",
       "      <td>10</td>\n",
       "      <td>3</td>\n",
       "    </tr>\n",
       "    <tr>\n",
       "      <th>3</th>\n",
       "      <td>B00004TUS6</td>\n",
       "      <td>active</td>\n",
       "      <td>163174</td>\n",
       "      <td>10</td>\n",
       "      <td>4</td>\n",
       "    </tr>\n",
       "    <tr>\n",
       "      <th>4</th>\n",
       "      <td>0307106519</td>\n",
       "      <td>active</td>\n",
       "      <td>994870</td>\n",
       "      <td>7</td>\n",
       "      <td>26</td>\n",
       "    </tr>\n",
       "  </tbody>\n",
       "</table>\n",
       "</div>"
      ],
      "text/plain": [
       "         n.id n.status n.sales_rank  count_sim  scaled\n",
       "0  0684839385   active         1578         10       0\n",
       "1  0375431500   active       712907          3      18\n",
       "2  B000007WEG   active       114054         10       3\n",
       "3  B00004TUS6   active       163174         10       4\n",
       "4  0307106519   active       994870          7      26"
      ]
     },
     "execution_count": 274,
     "metadata": {},
     "output_type": "execute_result"
    }
   ],
   "source": [
    "df.head()"
   ]
  },
  {
   "cell_type": "code",
   "execution_count": 275,
   "metadata": {
    "collapsed": true
   },
   "outputs": [],
   "source": [
    "summ = df.groupby('scaled')['count_sim'].mean()"
   ]
  },
  {
   "cell_type": "code",
   "execution_count": 277,
   "metadata": {},
   "outputs": [],
   "source": [
    "q = \"\"\"MATCH p=(n:Product) OPTIONAL MATCH (n)-[r:similar]->() RETURN n.id, n.status, n.avg_rating, count(r);\"\"\"\n",
    "records = neo4(q)\n",
    "cols = ['n.id', 'n.status', 'n.avg_rating', 'count_sim']\n",
    "df = pd.DataFrame.from_records(records, columns=cols)  \n",
    "df['count_sim'] = df['count_sim'].fillna(0)\n",
    "df['n.avg_rating'] = df['n.avg_rating'].fillna(0)\n",
    "summ2 = df.groupby('n.avg_rating')['count_sim'].mean()\n"
   ]
  },
  {
   "cell_type": "code",
   "execution_count": 278,
   "metadata": {},
   "outputs": [
    {
     "name": "stderr",
     "output_type": "stream",
     "text": [
      "C:\\Users\\moore\\Anaconda3\\lib\\site-packages\\sklearn\\utils\\validation.py:475: DataConversionWarning: Data with input dtype object was converted to float64 by MinMaxScaler.\n",
      "  warnings.warn(msg, DataConversionWarning)\n"
     ]
    }
   ],
   "source": [
    "q = \"\"\"MATCH p=(n:Product) OPTIONAL MATCH (n)-[r:similar]->() RETURN n.id, n.status, n.sales_rank, count(r);\"\"\"\n",
    "records = neo4(q)\n",
    "cols = ['n.id', 'n.status', 'n.sales_rank', 'count_sim']\n",
    "df = pd.DataFrame.from_records(records, columns=cols)  \n",
    "df['count_sim'] = df['count_sim'].fillna(0)\n",
    "df['n.sales_rank'] = df['n.sales_rank'].fillna(0)\n",
    "scaled = scaler.fit_transform(df['n.sales_rank'].values.reshape(-1, 1))\n",
    "df['scaled'] = scaled\n",
    "df['scaled'] = df.scaled.apply(lambda x: (x*100)).astype(int)\n",
    "summ1 = df.groupby('scaled')['count_sim'].mean()"
   ]
  },
  {
   "cell_type": "code",
   "execution_count": 290,
   "metadata": {
    "collapsed": true
   },
   "outputs": [],
   "source": [
    "q = \"\"\"MATCH p=(n:Product) OPTIONAL MATCH (n)-[r:co_pur]->() RETURN n.id, n.status, n.avg_rating, count(r);\"\"\"\n",
    "records = neo4(q)\n",
    "cols = ['n.id', 'n.status', 'n.avg_rating', 'count_sim']\n",
    "df = pd.DataFrame.from_records(records, columns=cols)  \n",
    "df['count_sim'] = df['count_sim'].fillna(0)\n",
    "df['n.avg_rating'] = df['n.avg_rating'].fillna(0)\n",
    "summ3 = df.groupby('n.avg_rating')['count_sim'].mean()"
   ]
  },
  {
   "cell_type": "code",
   "execution_count": 285,
   "metadata": {},
   "outputs": [
    {
     "data": {
      "image/png": "[encoded data removed]",
      "text/plain": [
       "<matplotlib.figure.Figure at 0x1ce58431be0>"
      ]
     },
     "metadata": {},
     "output_type": "display_data"
    }
   ],
   "source": [
    "f, (ax1, ax2) = plt.subplots(1, 2, sharex=False, sharey=False, figsize=(10,5))\n",
    "ax1.plot(summ, 'bo')\n",
    "ax1.set_xlabel(\"sales rank scaled\")\n",
    "ax1.set_ylabel(\"co-purchased products (avg count)\")\n",
    "ax1.set_title(\"Sales Rank relationship to co-purchasing pairs\")\n",
    "ax1.annotate('Sales rank 0 means least 100 means most', (0,0), (0, -40), xycoords='axes fraction', textcoords='offset points', va='top')\n",
    "ax2.plot(summ1, 'ro')\n",
    "ax2.set_xlabel(\"sales rank scaled\")\n",
    "ax2.set_ylabel(\"similar products (avg count)\")\n",
    "ax2.set_title(\"\"\"Sales Rank relationship to similar products\"\"\")\n",
    "plt.subplots_adjust(left=0.2, wspace=0.8, top=0.8)\n",
    "plt.suptitle(\"\"\"Sales Rank relationships \\n Amazon co-purchases data \\n\\n\"\"\", fontsize=16)\n",
    "ax2.annotate('Sales rank 0 means least 100 means most', (0,0), (0, -40), xycoords='axes fraction', textcoords='offset points', va='top')\n",
    "plt.show()"
   ]
  },
  {
   "cell_type": "code",
   "execution_count": 300,
   "metadata": {},
   "outputs": [
    {
     "data": {
      "image/png": "[encoded data removed]",
      "text/plain": [
       "<matplotlib.figure.Figure at 0x1ce44e5cd68>"
      ]
     },
     "metadata": {},
     "output_type": "display_data"
    }
   ],
   "source": [
    "f, (ax1, ax2) = plt.subplots(1, 2, sharex=False, sharey=False, figsize=(10,5))\n",
    "plt.suptitle(\"\"\"Product review ratings\"\"\", fontsize=16)\n",
    "ax1.plot(summ2)\n",
    "ax1.set_xlabel(\"Avg Customer rating\")\n",
    "ax1.set_ylabel(\"Similar products (avg count)\")\n",
    "ax1.set_title(\"Rating relationship to similar pairs\")\n",
    "ax1.annotate('Customer ratings', (0,0), (0, -40), xycoords='axes fraction', textcoords='offset points', va='top')\n",
    "ax2.plot(summ3, 'ro')\n",
    "ax2.set_xlabel(\"Avg Customer rating\")\n",
    "ax2.set_ylabel(\"Co-purchased products (avg count)\")\n",
    "ax2.set_title(\"Rating relationship to co-purchase\")\n",
    "ax2.annotate('Customer ratings', (0,0), (0, -40), xycoords='axes fraction', textcoords='offset points', va='top')\n",
    "plt.show()"
   ]
  },
  {
   "cell_type": "code",
   "execution_count": null,
   "metadata": {
    "collapsed": true
   },
   "outputs": [],
   "source": []
  }
 ],
 "metadata": {
  "kernelspec": {
   "display_name": "Python 3",
   "language": "python",
   "name": "python3"
  },
  "language_info": {
   "codemirror_mode": {
    "name": "ipython",
    "version": 3
   },
   "file_extension": ".py",
   "mimetype": "text/x-python",
   "name": "python",
   "nbconvert_exporter": "python",
   "pygments_lexer": "ipython3",
   "version": "3.6.3"
  }
 },
 "nbformat": 4,
 "nbformat_minor": 2
}
