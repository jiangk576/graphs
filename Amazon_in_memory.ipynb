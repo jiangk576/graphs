{
 "cells": [
  {
   "cell_type": "markdown",
   "metadata": {
    "collapsed": true
   },
   "source": [
    "# Python notebook \n",
    "\n",
    "## In memory approach as opposed to a database\n",
    "Amazon co-purchase data analysis\n"
   ]
  },
  {
   "cell_type": "code",
   "execution_count": 27,
   "metadata": {
    "collapsed": true
   },
   "outputs": [],
   "source": [
    "import matplotlib.pyplot as plt\n",
    "import networkx as nx\n",
    "import pickle\n",
    "import pandas as pd"
   ]
  },
  {
   "cell_type": "code",
   "execution_count": 28,
   "metadata": {
    "collapsed": true
   },
   "outputs": [],
   "source": [
    "file = 'C:/Users/moore/Dropbox/graphs/Amazon0601.txt'\n",
    "location_gml = 'C:/Users/moore/Dropbox/graphs/Amazon.gml'\n",
    "location_pickle = 'C:/Users/moore/Dropbox/graphs/Amazon.gpickle'\n",
    "file_meta = 'C:/Users/moore/Dropbox/graphs/Amazon-meta.txt'\n",
    "pickle_meta = 'C:/Users/moore/Dropbox/graphs/AmazonMeta.p'\n",
    "location_pairs = 'C:/Users/moore/Dropbox/graphs/Amazon.p'\n",
    "\n",
    "review_csv = 'C:/Users/moore/Dropbox/graphs/reviews.csv'\n",
    "sims_csv = 'C:/Users/moore/Dropbox/graphs/sims.csv'\n",
    "prods_csv = 'C:/Users/moore/Dropbox/graphs/prods.csv'\n",
    "bought_csv = 'C:/Users/moore/Dropbox/graphs/bought.csv'\n",
    "cats_csv = 'C:/Users/moore/Dropbox/graphs/cats.csv'\n",
    "prods_csv = 'C:/Users/moore/Dropbox/graphs/prods_dataframe.csv'\n",
    "product_details = 'C:/Users/moore/Dropbox/graphs/prods_data.p'\n",
    "pair_listing = 'C:/Users/moore/Dropbox/graphs/pair_list.p'\n",
    "pair_dictionary = 'C:/Users/moore/Dropbox/graphs/pair_dict.p'"
   ]
  },
  {
   "cell_type": "code",
   "execution_count": 29,
   "metadata": {},
   "outputs": [],
   "source": [
    "def in_memory():\n",
    "    restructured = pickle.load(open(product_details, 'rb'))\n",
    "    pair_dict = pickle.load(open(pair_dictionary, 'rb'))\n",
    "    paths = pickle.load(open(pair_listing, 'rb')) \n",
    "    records = []\n",
    "    for path in paths:\n",
    "        dic = {}\n",
    "        pairs = (path[0],path[1])\n",
    "        try:\n",
    "            a = pair_dict[pairs[1]]\n",
    "        except:\n",
    "            a = 0\n",
    "        dic = {'Title': restructured[pairs[0]]['title'], \n",
    "           'co_purNum': pair_dict[pairs[0]], \n",
    "           'pair Title': restructured[pairs[1]]['title'], \n",
    "           'pair_Count': a}\n",
    "        records.append(dic)\n",
    "    \n",
    "    df = pd.DataFrame.from_records(records)\n",
    "    return df.shape"
   ]
  },
  {
   "cell_type": "code",
   "execution_count": 30,
   "metadata": {},
   "outputs": [],
   "source": [
    "def neo4j():\n",
    "    from neo4jrestclient.client import GraphDatabase\n",
    "    from neo4jrestclient.constants import RAW\n",
    "    from neo4jrestclient.client import Node \n",
    "    q = \"\"\"MATCH p=(n)-[r:co_pur]->(w) RETURN n.title, n.id, n.cats, n.status, w.title, w.id, w.cats, w.status\"\"\"\n",
    "    db = GraphDatabase(\"http://localhost:7474/db/data\")\n",
    "    #retrieve a list of all nodes with the labels\n",
    "    params = {}\n",
    "    results = db.query(q, params=params, returns=RAW)\n",
    "    records = []\n",
    "    for prod in results:\n",
    "        records.append(prod)\n",
    "    \n",
    "    cols = ['n.title', 'n.id', 'n.cats', 'n.status', 'w.title', 'w.id', 'w.cats', 'w.status']\n",
    "    df = pd.DataFrame.from_records(records, columns=cols)  \n",
    "    return df.shape"
   ]
  },
  {
   "cell_type": "code",
   "execution_count": 31,
   "metadata": {},
   "outputs": [
    {
     "name": "stdout",
     "output_type": "stream",
     "text": [
      "(3387388, 4) returned from in-memory approach \n",
      "Wall time: 13 s\n"
     ]
    }
   ],
   "source": [
    "%%time\n",
    "shape=in_memory()\n",
    "print(shape, 'returned from in-memory approach ')"
   ]
  },
  {
   "cell_type": "code",
   "execution_count": 32,
   "metadata": {},
   "outputs": [
    {
     "name": "stdout",
     "output_type": "stream",
     "text": [
      "(3387388, 8) returned from Cypher query on local Neo4j database\n",
      "Wall time: 57.8 s\n"
     ]
    }
   ],
   "source": [
    "%%time\n",
    "shape=neo4j()\n",
    "print(shape, 'returned from Cypher query on local Neo4j database')"
   ]
  },
  {
   "cell_type": "code",
   "execution_count": null,
   "metadata": {
    "collapsed": true
   },
   "outputs": [],
   "source": []
  }
 ],
 "metadata": {
  "kernelspec": {
   "display_name": "Python 3",
   "language": "python",
   "name": "python3"
  },
  "language_info": {
   "codemirror_mode": {
    "name": "ipython",
    "version": 3
   },
   "file_extension": ".py",
   "mimetype": "text/x-python",
   "name": "python",
   "nbconvert_exporter": "python",
   "pygments_lexer": "ipython3",
   "version": "3.6.3"
  }
 },
 "nbformat": 4,
 "nbformat_minor": 2
}
