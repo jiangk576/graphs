{
 "cells": [
  {
   "cell_type": "markdown",
   "metadata": {
    "collapsed": true
   },
   "source": [
    "# Python notebook \n",
    "\n",
    "## In memory approach as opposed to a database\n",
    "Amazon co-purchase data analysis\n"
   ]
  },
  {
   "cell_type": "code",
   "execution_count": 25,
   "metadata": {
    "collapsed": true
   },
   "outputs": [],
   "source": [
    "import matplotlib.pyplot as plt\n",
    "import networkx as nx\n",
    "import pickle"
   ]
  },
  {
   "cell_type": "code",
   "execution_count": 26,
   "metadata": {
    "collapsed": true
   },
   "outputs": [],
   "source": [
    "file = 'C:/Users/moore/Dropbox/graphs/Amazon0601.txt'\n",
    "location_gml = 'C:/Users/moore/Dropbox/graphs/Amazon.gml'\n",
    "location_pickle = 'C:/Users/moore/Dropbox/graphs/Amazon.gpickle'\n",
    "file_meta = 'C:/Users/moore/Dropbox/graphs/Amazon-meta.txt'\n",
    "pickle_meta = 'C:/Users/moore/Dropbox/graphs/AmazonMeta.p'\n",
    "location_pairs = 'C:/Users/moore/Dropbox/graphs/Amazon.p'\n",
    "\n",
    "review_csv = 'C:/Users/moore/Dropbox/graphs/reviews.csv'\n",
    "sims_csv = 'C:/Users/moore/Dropbox/graphs/sims.csv'\n",
    "prods_csv = 'C:/Users/moore/Dropbox/graphs/prods.csv'\n",
    "bought_csv = 'C:/Users/moore/Dropbox/graphs/bought.csv'\n",
    "cats_csv = 'C:/Users/moore/Dropbox/graphs/cats.csv'\n",
    "prods_csv = 'C:/Users/moore/Dropbox/graphs/prods_dataframe.csv'\n",
    "product_details = 'C:/Users/moore/Dropbox/graphs/prods_data.p'\n",
    "pair_listing = 'C:/Users/moore/Dropbox/graphs/pair_list.p'\n",
    "pair_dictionary = 'C:/Users/moore/Dropbox/graphs/pair_dict.p'\n",
    "paths = pickle.load(open(pair_listing, 'rb')) \n",
    "restructured = pickle.load(open(product_details, 'rb'))\n",
    "pair_dict = pickle.load(open(pair_dictionary, 'rb'))"
   ]
  },
  {
   "cell_type": "code",
   "execution_count": 31,
   "metadata": {},
   "outputs": [],
   "source": [
    "item = 60000"
   ]
  },
  {
   "cell_type": "code",
   "execution_count": 32,
   "metadata": {
    "collapsed": true
   },
   "outputs": [],
   "source": [
    "pairs = (paths[item][0],paths[item][1])"
   ]
  },
  {
   "cell_type": "code",
   "execution_count": 43,
   "metadata": {},
   "outputs": [
    {
     "data": {
      "text/plain": [
       "('PSI Spies', 10, 'Time Enough for Drums', 10)"
      ]
     },
     "execution_count": 43,
     "metadata": {},
     "output_type": "execute_result"
    }
   ],
   "source": [
    "restructured[pairs[0]]['title'], pair_dict[pairs[0]], restructured[pairs[1]]['title'], pair_dict[pairs[1]]"
   ]
  },
  {
   "cell_type": "code",
   "execution_count": null,
   "metadata": {
    "collapsed": true
   },
   "outputs": [],
   "source": []
  }
 ],
 "metadata": {
  "kernelspec": {
   "display_name": "Python 3",
   "language": "python",
   "name": "python3"
  },
  "language_info": {
   "codemirror_mode": {
    "name": "ipython",
    "version": 3
   },
   "file_extension": ".py",
   "mimetype": "text/x-python",
   "name": "python",
   "nbconvert_exporter": "python",
   "pygments_lexer": "ipython3",
   "version": "3.6.3"
  }
 },
 "nbformat": 4,
 "nbformat_minor": 2
}
