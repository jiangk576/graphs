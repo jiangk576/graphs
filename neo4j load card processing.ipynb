{
 "cells": [
  {
   "cell_type": "markdown",
   "metadata": {
    "collapsed": true
   },
   "source": [
    "# Python functions to build a graph\n",
    "\n",
    "\n",
    "## load card work for onload with Neo4j\n",
    "Use the Amazon data 0601\n",
    "\n",
    "Product co-purchasing networks data summary\n",
    "\n",
    "    Type \tNodes \tEdges \tDescription \n",
    "    Dir \t403,394 3,387,388 Amazon product co-purchasing network from June 1 2003\n",
    "\n",
    "    meta \t548,552 1,788,725 \tmeta data\n",
    "\n",
    "\n",
    "Amazon product metadata: product info and all reviews on around 548,552 products.\n",
    "\n",
    "### Once this Notebook is run there will exist\n",
    "\n",
    "CSV files that will be used to load the database"
   ]
  },
  {
   "cell_type": "code",
   "execution_count": 1,
   "metadata": {
    "collapsed": true
   },
   "outputs": [],
   "source": [
    "#this is a text file which contains all the co-purchased products from Amazon on 06_01\n",
    "file = 'C:/Users/moore/Dropbox/graphs/Amazon0601.txt'\n",
    "location_gml = 'C:/Users/moore/Dropbox/graphs/Amazon.gml'\n",
    "location_pickle = 'C:/Users/moore/Dropbox/graphs/Amazon.gpickle'\n",
    "file_meta = 'C:/Users/moore/Dropbox/graphs/Amazon-meta.txt'\n",
    "pickle_meta = 'C:/Users/moore/Dropbox/graphs/AmazonMeta.p'\n",
    "location_pairs = 'C:/Users/moore/Dropbox/graphs/Amazon.p'\n",
    "\n",
    "review_csv = 'C:/Users/moore/Dropbox/graphs/reviews.csv'\n",
    "sims_csv = 'C:/Users/moore/Dropbox/graphs/sims.csv'\n",
    "prods_csv = 'C:/Users/moore/Dropbox/graphs/prods.csv'\n",
    "bought_csv = 'C:/Users/moore/Dropbox/graphs/bought.csv'\n",
    "cats_csv = 'C:/Users/moore/Dropbox/graphs/cats.csv'\n",
    "import matplotlib.pyplot as plt\n",
    "import networkx as nx\n",
    "import pickle"
   ]
  },
  {
   "cell_type": "code",
   "execution_count": 2,
   "metadata": {
    "collapsed": true
   },
   "outputs": [],
   "source": [
    "paths = pickle.load(open(location_pairs, 'rb')) \n",
    "meta = pickle.load(open(pickle_meta, 'rb'))  \n"
   ]
  },
  {
   "cell_type": "code",
   "execution_count": 68,
   "metadata": {
    "collapsed": true
   },
   "outputs": [],
   "source": [
    "with open(review_csv, 'w') as f:\n",
    "    cols = 'ASIN,' + str(list(meta['1']['reviews']['reviews'][0].keys())).replace('[','').replace(']','') + '\\n'\n",
    "    f.write(cols)\n",
    "    for key, value in meta.items():\n",
    "    \n",
    "        try:\n",
    "            for review in meta[key]['reviews']['reviews']:\n",
    "                f.write(str(meta[key]['ASIN']) +',' + str(list(review.values())).replace('[','').replace(']','') + '\\n')\n",
    "        except:\n",
    "            continue  "
   ]
  },
  {
   "cell_type": "code",
   "execution_count": 75,
   "metadata": {
    "collapsed": true
   },
   "outputs": [],
   "source": [
    "with open(sims_csv, 'w') as f:\n",
    "    cols = \"prod,sim_prod\\n\"\n",
    "    f.write(cols)\n",
    "    for key, value in meta.items():    \n",
    "        id = meta[key]['ASIN']\n",
    "        try:\n",
    "            for sim in meta[key]['similar']['sims']:\n",
    "                f.write(id +',' + sim + '\\n')\n",
    "        except:\n",
    "            continue"
   ]
  },
  {
   "cell_type": "code",
   "execution_count": 209,
   "metadata": {
    "collapsed": true
   },
   "outputs": [],
   "source": [
    "with open(prods_csv, 'w') as f:\n",
    "    cols = 'ASIN, title, sales_rank, status, group, reviews, avg_rating, cats\\n'\n",
    "    f.write(cols)\n",
    "    for key, value in meta.items():    \n",
    "        id = meta[key]['ASIN']\n",
    "        salesrank = ''\n",
    "        title = ''\n",
    "        status = 'in-active'\n",
    "        group = ''\n",
    "        cats = ''\n",
    "        avg_rating = ''\n",
    "        reviews = ''\n",
    "        if ( len(meta[key].keys())) > 2:\n",
    "            status = 'active'\n",
    "        avail_keys = list(meta[key].keys())\n",
    "        if 'title' in avail_keys:\n",
    "            title = meta[key]['title'].replace(',','').replace('\"','').strip()\n",
    "        if 'salesrank' in avail_keys:\n",
    "            salesrank = meta[key]['salesrank'].replace(',','-')\n",
    "        if 'group' in avail_keys:\n",
    "            group = meta[key]['group'].replace(',','-')\n",
    "   \n",
    "        if 'reviews' in avail_keys:\n",
    "            avail_rev = list(meta[key]['reviews']['head'].keys()) \n",
    "                       \n",
    "            if ('total' in avail_rev and 'avg rating' in avail_rev):\n",
    "                reviews = meta[key]['reviews']['head']['total']\n",
    "                avg_rating = meta[key]['reviews']['head']['avg rating']\n",
    "                \n",
    "        if 'categories' in avail_keys:\n",
    "            cats = meta[key]['categories']['count']\n",
    "            \n",
    "        f.write(id +','+ title +','+ salesrank +','+ status +','+ group +','+ reviews +','+ avg_rating +','+ str(cats) + '\\n')\n"
   ]
  },
  {
   "cell_type": "code",
   "execution_count": 155,
   "metadata": {
    "collapsed": true
   },
   "outputs": [],
   "source": [
    "with open(bought_csv, 'w') as f:\n",
    "    cols = 'asin, co_pur\\n'\n",
    "    f.write(cols)\n",
    "    for path in paths:\n",
    "        x, y = path\n",
    "        pair = meta[x]['ASIN'], meta[y]['ASIN']\n",
    "        f.write(pair[0] +','+ pair[1] + '\\n')"
   ]
  },
  {
   "cell_type": "code",
   "execution_count": 7,
   "metadata": {},
   "outputs": [],
   "source": [
    "with open(cats_csv, 'w') as f:\n",
    "    cols = 'ASIN,micro,sub,cat,group\\n'\n",
    "    f.write(cols)\n",
    "    for key, value in meta.items(): \n",
    "        clean = []\n",
    "        if 'categories' in meta[key].keys():\n",
    "            for m in meta[key]['categories']['values']:\n",
    "                ca = list(m)[:4]\n",
    "                for cat in ca[1:]:\n",
    "                    cleaned = cat.split('[')[0].upper().replace(',','')\n",
    "                    clean.append(cleaned)\n",
    "                \n",
    "                if (len(clean) == 3):\n",
    "                    micro = clean[2]\n",
    "                    sub = clean[1]\n",
    "                    cat = clean[0]\n",
    "                elif (len(clean) == 2):\n",
    "                    micro = clean[1]\n",
    "                    sub = clean[1]\n",
    "                    cat = clean[0]\n",
    "                else:\n",
    "                    micro = clean[0]\n",
    "                    sub = clean[0]\n",
    "                    cat = clean[0]\n",
    "                \n",
    "                f.write(meta[key]['ASIN'] + ',' + micro +',' + sub + ',' + cat +','+ meta[key]['group'].upper() + '\\n')"
   ]
  },
  {
   "cell_type": "code",
   "execution_count": null,
   "metadata": {
    "collapsed": true
   },
   "outputs": [],
   "source": []
  }
 ],
 "metadata": {
  "kernelspec": {
   "display_name": "Python 3",
   "language": "python",
   "name": "python3"
  },
  "language_info": {
   "codemirror_mode": {
    "name": "ipython",
    "version": 3
   },
   "file_extension": ".py",
   "mimetype": "text/x-python",
   "name": "python",
   "nbconvert_exporter": "python",
   "pygments_lexer": "ipython3",
   "version": "3.6.3"
  }
 },
 "nbformat": 4,
 "nbformat_minor": 2
}
