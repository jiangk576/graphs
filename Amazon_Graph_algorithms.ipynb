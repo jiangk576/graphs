{
 "cells": [
  {
   "cell_type": "markdown",
   "metadata": {
    "collapsed": true
   },
   "source": [
    "# Python notebook \n",
    "\n",
    "## Graph Algorithms\n",
    "Amazon co-purchase data analysis\n",
    "\n",
    "https://neo4j-contrib.github.io/neo4j-graph-algorithms/#_algorithms_2\n"
   ]
  },
  {
   "cell_type": "code",
   "execution_count": 1,
   "metadata": {
    "collapsed": true
   },
   "outputs": [],
   "source": [
    "import matplotlib.pyplot as plt\n",
    "import networkx as nx\n",
    "import pickle\n",
    "import pandas as pd\n",
    "from neo4jrestclient.client import GraphDatabase\n",
    "from neo4jrestclient.constants import RAW\n",
    "from neo4jrestclient.client import Node "
   ]
  },
  {
   "cell_type": "code",
   "execution_count": 2,
   "metadata": {
    "collapsed": true
   },
   "outputs": [],
   "source": [
    "q = \"\"\"MATCH p=(n:Product) OPTIONAL MATCH (n)-[r:co_pur]->() RETURN n.id, n.status, n.sales_rank, count(r);\"\"\""
   ]
  },
  {
   "cell_type": "code",
   "execution_count": 3,
   "metadata": {
    "collapsed": true
   },
   "outputs": [],
   "source": [
    "def neo4(q):\n",
    "    from neo4jrestclient.client import GraphDatabase\n",
    "    from neo4jrestclient.constants import RAW\n",
    "    from neo4jrestclient.client import Node \n",
    "    db = GraphDatabase(\"http://localhost:7474/db/data\")\n",
    "    #retrieve a list of all nodes with the labels\n",
    "    params = {}\n",
    "    results = db.query(q, params=params, returns=RAW)\n",
    "    records = []\n",
    "    for prod in results:\n",
    "        records.append(prod)     \n",
    "    return records    "
   ]
  },
  {
   "cell_type": "code",
   "execution_count": 4,
   "metadata": {
    "collapsed": true
   },
   "outputs": [],
   "source": [
    "q = \"\"\"MATCH p=(n:Product) OPTIONAL MATCH (n)-[r:co_pur]->() RETURN n.id, n.status, n.sales_rank, count(r);\"\"\"\n",
    "records = neo4(q)\n",
    "cols = ['n.id', 'n.status', 'n.sales_rank', 'count_sim']\n",
    "df = pd.DataFrame.from_records(records, columns=cols)  "
   ]
  },
  {
   "cell_type": "code",
   "execution_count": 6,
   "metadata": {},
   "outputs": [
    {
     "data": {
      "text/html": [
       "<div>\n",
       "<style scoped>\n",
       "    .dataframe tbody tr th:only-of-type {\n",
       "        vertical-align: middle;\n",
       "    }\n",
       "\n",
       "    .dataframe tbody tr th {\n",
       "        vertical-align: top;\n",
       "    }\n",
       "\n",
       "    .dataframe thead th {\n",
       "        text-align: right;\n",
       "    }\n",
       "</style>\n",
       "<table border=\"1\" class=\"dataframe\">\n",
       "  <thead>\n",
       "    <tr style=\"text-align: right;\">\n",
       "      <th></th>\n",
       "      <th>n.a</th>\n",
       "      <th>n.b</th>\n",
       "      <th>n.c</th>\n",
       "    </tr>\n",
       "  </thead>\n",
       "  <tbody>\n",
       "    <tr>\n",
       "      <th>0</th>\n",
       "      <td>274291</td>\n",
       "      <td>335390</td>\n",
       "      <td>335391</td>\n",
       "    </tr>\n",
       "    <tr>\n",
       "      <th>1</th>\n",
       "      <td>274291</td>\n",
       "      <td>335390</td>\n",
       "      <td>335391</td>\n",
       "    </tr>\n",
       "    <tr>\n",
       "      <th>2</th>\n",
       "      <td>274291</td>\n",
       "      <td>333213</td>\n",
       "      <td>335390</td>\n",
       "    </tr>\n",
       "    <tr>\n",
       "      <th>3</th>\n",
       "      <td>274291</td>\n",
       "      <td>333213</td>\n",
       "      <td>335391</td>\n",
       "    </tr>\n",
       "    <tr>\n",
       "      <th>4</th>\n",
       "      <td>274291</td>\n",
       "      <td>333213</td>\n",
       "      <td>333214</td>\n",
       "    </tr>\n",
       "  </tbody>\n",
       "</table>\n",
       "</div>"
      ],
      "text/plain": [
       "      n.a     n.b     n.c\n",
       "0  274291  335390  335391\n",
       "1  274291  335390  335391\n",
       "2  274291  333213  335390\n",
       "3  274291  333213  335391\n",
       "4  274291  333213  333214"
      ]
     },
     "execution_count": 6,
     "metadata": {},
     "output_type": "execute_result"
    }
   ],
   "source": [
    "#make a stream of all triangle relationships\n",
    "q = \"CALL algo.triangle.stream('Product','co_pur') yield nodeA,nodeB,nodeC;\"\n",
    "records = neo4(q)\n",
    "cols = ['n.a', 'n.b', 'n.c']\n",
    "df = pd.DataFrame.from_records(records, columns=cols)\n",
    "df.shape\n",
    "df.head()"
   ]
  },
  {
   "cell_type": "markdown",
   "metadata": {},
   "source": [
    "counts the number of triangles a node is member of and writes it back. Returns total triangle count and average clustering coefficient of the given graph."
   ]
  },
  {
   "cell_type": "code",
   "execution_count": 7,
   "metadata": {
    "collapsed": true
   },
   "outputs": [],
   "source": [
    "q = \"\"\"CALL algo.triangleCount('Product', 'co_pur',\n",
    "{concurrency:4, write:true, writeProperty:'triangles',clusteringCoefficientProperty:'coefficient'})\n",
    "YIELD loadMillis, computeMillis, writeMillis, nodeCount, triangleCount, averageClusteringCoefficient;\"\"\"\n",
    "records = neo4(q)"
   ]
  },
  {
   "cell_type": "code",
   "execution_count": 8,
   "metadata": {
    "collapsed": true
   },
   "outputs": [],
   "source": [
    "cols = ['loadMillis', 'computeMillis', 'writeMillis', 'nodeCount', 'triangleCount', 'averageClusteringCoefficient']"
   ]
  },
  {
   "cell_type": "code",
   "execution_count": 9,
   "metadata": {},
   "outputs": [],
   "source": [
    "df = pd.DataFrame.from_records(records, columns=cols)"
   ]
  },
  {
   "cell_type": "code",
   "execution_count": 10,
   "metadata": {},
   "outputs": [
    {
     "data": {
      "text/html": [
       "<div>\n",
       "<style scoped>\n",
       "    .dataframe tbody tr th:only-of-type {\n",
       "        vertical-align: middle;\n",
       "    }\n",
       "\n",
       "    .dataframe tbody tr th {\n",
       "        vertical-align: top;\n",
       "    }\n",
       "\n",
       "    .dataframe thead th {\n",
       "        text-align: right;\n",
       "    }\n",
       "</style>\n",
       "<table border=\"1\" class=\"dataframe\">\n",
       "  <thead>\n",
       "    <tr style=\"text-align: right;\">\n",
       "      <th></th>\n",
       "      <th>loadMillis</th>\n",
       "      <th>computeMillis</th>\n",
       "      <th>writeMillis</th>\n",
       "      <th>nodeCount</th>\n",
       "      <th>triangleCount</th>\n",
       "      <th>averageClusteringCoefficient</th>\n",
       "    </tr>\n",
       "  </thead>\n",
       "  <tbody>\n",
       "    <tr>\n",
       "      <th>0</th>\n",
       "      <td>5545</td>\n",
       "      <td>1641</td>\n",
       "      <td>1033</td>\n",
       "      <td>548552</td>\n",
       "      <td>14220930</td>\n",
       "      <td>0.498614</td>\n",
       "    </tr>\n",
       "  </tbody>\n",
       "</table>\n",
       "</div>"
      ],
      "text/plain": [
       "   loadMillis  computeMillis  writeMillis  nodeCount  triangleCount  \\\n",
       "0        5545           1641         1033     548552       14220930   \n",
       "\n",
       "   averageClusteringCoefficient  \n",
       "0                      0.498614  "
      ]
     },
     "execution_count": 10,
     "metadata": {},
     "output_type": "execute_result"
    }
   ],
   "source": [
    "df.head()"
   ]
  },
  {
   "cell_type": "code",
   "execution_count": 11,
   "metadata": {},
   "outputs": [
    {
     "data": {
      "text/plain": [
       "(9697772, 2)"
      ]
     },
     "execution_count": 11,
     "metadata": {},
     "output_type": "execute_result"
    }
   ],
   "source": [
    "q = \"\"\"CALL algo.triangleCount.stream('Products', 'co_pur', {concurrency:4})\n",
    "YIELD nodeId, triangles;\"\"\"\n",
    "records = neo4(q)\n",
    "cols = ['n.id', 'n.triangles']\n",
    "df = pd.DataFrame.from_records(records, columns=cols)\n",
    "df.shape"
   ]
  },
  {
   "cell_type": "code",
   "execution_count": 12,
   "metadata": {},
   "outputs": [
    {
     "data": {
      "text/html": [
       "<div>\n",
       "<style scoped>\n",
       "    .dataframe tbody tr th:only-of-type {\n",
       "        vertical-align: middle;\n",
       "    }\n",
       "\n",
       "    .dataframe tbody tr th {\n",
       "        vertical-align: top;\n",
       "    }\n",
       "\n",
       "    .dataframe thead th {\n",
       "        text-align: right;\n",
       "    }\n",
       "</style>\n",
       "<table border=\"1\" class=\"dataframe\">\n",
       "  <thead>\n",
       "    <tr style=\"text-align: right;\">\n",
       "      <th></th>\n",
       "      <th>n.id</th>\n",
       "      <th>n.triangles</th>\n",
       "    </tr>\n",
       "  </thead>\n",
       "  <tbody>\n",
       "    <tr>\n",
       "      <th>0</th>\n",
       "      <td>0</td>\n",
       "      <td>52</td>\n",
       "    </tr>\n",
       "    <tr>\n",
       "      <th>1</th>\n",
       "      <td>1</td>\n",
       "      <td>38</td>\n",
       "    </tr>\n",
       "    <tr>\n",
       "      <th>2</th>\n",
       "      <td>2</td>\n",
       "      <td>48</td>\n",
       "    </tr>\n",
       "    <tr>\n",
       "      <th>3</th>\n",
       "      <td>3</td>\n",
       "      <td>43</td>\n",
       "    </tr>\n",
       "    <tr>\n",
       "      <th>4</th>\n",
       "      <td>4</td>\n",
       "      <td>909</td>\n",
       "    </tr>\n",
       "  </tbody>\n",
       "</table>\n",
       "</div>"
      ],
      "text/plain": [
       "   n.id  n.triangles\n",
       "0     0           52\n",
       "1     1           38\n",
       "2     2           48\n",
       "3     3           43\n",
       "4     4          909"
      ]
     },
     "execution_count": 12,
     "metadata": {},
     "output_type": "execute_result"
    }
   ],
   "source": [
    "df.head()"
   ]
  },
  {
   "cell_type": "code",
   "execution_count": 13,
   "metadata": {},
   "outputs": [],
   "source": [
    "a = df['n.triangles'].describe()"
   ]
  },
  {
   "cell_type": "code",
   "execution_count": 14,
   "metadata": {},
   "outputs": [
    {
     "data": {
      "text/plain": [
       "(4928.0, 0.0, n.id           379814\n",
       " n.triangles    379814\n",
       " dtype: int64)"
      ]
     },
     "execution_count": 14,
     "metadata": {},
     "output_type": "execute_result"
    }
   ],
   "source": [
    "a['max'],a['min'], df[df['n.triangles'] != 0].count()"
   ]
  },
  {
   "cell_type": "code",
   "execution_count": 19,
   "metadata": {},
   "outputs": [
    {
     "data": {
      "text/plain": [
       "(5, 2)"
      ]
     },
     "execution_count": 19,
     "metadata": {},
     "output_type": "execute_result"
    }
   ],
   "source": [
    "q = \"\"\"CALL algo.pageRank.stream('Products', 'co_pur', {iterations:20, dampingFactor:0.85})\n",
    "YIELD node, score\n",
    "RETURN node,score order by score desc limit 5;\"\"\"\n",
    "records = neo4(q)\n",
    "cols = ['n.id', 'n.score']\n",
    "df = pd.DataFrame.from_records(records, columns=cols)\n",
    "df.shape"
   ]
  },
  {
   "cell_type": "code",
   "execution_count": 20,
   "metadata": {},
   "outputs": [
    {
     "data": {
      "text/html": [
       "<div>\n",
       "<style scoped>\n",
       "    .dataframe tbody tr th:only-of-type {\n",
       "        vertical-align: middle;\n",
       "    }\n",
       "\n",
       "    .dataframe tbody tr th {\n",
       "        vertical-align: top;\n",
       "    }\n",
       "\n",
       "    .dataframe thead th {\n",
       "        text-align: right;\n",
       "    }\n",
       "</style>\n",
       "<table border=\"1\" class=\"dataframe\">\n",
       "  <thead>\n",
       "    <tr style=\"text-align: right;\">\n",
       "      <th></th>\n",
       "      <th>n.id</th>\n",
       "      <th>n.score</th>\n",
       "    </tr>\n",
       "  </thead>\n",
       "  <tbody>\n",
       "    <tr>\n",
       "      <th>0</th>\n",
       "      <td>{'metadata': {'id': 45, 'labels': ['Product']}...</td>\n",
       "      <td>582.601178</td>\n",
       "    </tr>\n",
       "    <tr>\n",
       "      <th>1</th>\n",
       "      <td>{'metadata': {'id': 1038, 'labels': ['Product'...</td>\n",
       "      <td>500.177672</td>\n",
       "    </tr>\n",
       "    <tr>\n",
       "      <th>2</th>\n",
       "      <td>{'metadata': {'id': 50, 'labels': ['Product']}...</td>\n",
       "      <td>496.380977</td>\n",
       "    </tr>\n",
       "    <tr>\n",
       "      <th>3</th>\n",
       "      <td>{'metadata': {'id': 1039, 'labels': ['Product'...</td>\n",
       "      <td>494.316174</td>\n",
       "    </tr>\n",
       "    <tr>\n",
       "      <th>4</th>\n",
       "      <td>{'metadata': {'id': 1041, 'labels': ['Product'...</td>\n",
       "      <td>427.977950</td>\n",
       "    </tr>\n",
       "  </tbody>\n",
       "</table>\n",
       "</div>"
      ],
      "text/plain": [
       "                                                n.id     n.score\n",
       "0  {'metadata': {'id': 45, 'labels': ['Product']}...  582.601178\n",
       "1  {'metadata': {'id': 1038, 'labels': ['Product'...  500.177672\n",
       "2  {'metadata': {'id': 50, 'labels': ['Product']}...  496.380977\n",
       "3  {'metadata': {'id': 1039, 'labels': ['Product'...  494.316174\n",
       "4  {'metadata': {'id': 1041, 'labels': ['Product'...  427.977950"
      ]
     },
     "execution_count": 20,
     "metadata": {},
     "output_type": "execute_result"
    }
   ],
   "source": [
    "df"
   ]
  },
  {
   "cell_type": "code",
   "execution_count": 24,
   "metadata": {},
   "outputs": [
    {
     "data": {
      "text/plain": [
       "n.id       {'metadata': {'id': 45, 'labels': ['Product']}...\n",
       "n.score                                              582.601\n",
       "Name: 0, dtype: object"
      ]
     },
     "execution_count": 24,
     "metadata": {},
     "output_type": "execute_result"
    }
   ],
   "source": [
    "df.loc[0]"
   ]
  },
  {
   "cell_type": "code",
   "execution_count": 17,
   "metadata": {},
   "outputs": [
    {
     "data": {
      "text/plain": [
       "(1, 8)"
      ]
     },
     "execution_count": 17,
     "metadata": {},
     "output_type": "execute_result"
    }
   ],
   "source": [
    "q = \"\"\"CALL algo.pageRank('Product', 'co_pur', {iterations:20, dampingFactor:0.85,\n",
    "write: true,writeProperty:\"pagerank\", concurrency:4})\n",
    "YIELD nodes, iterations, loadMillis, computeMillis, writeMillis, dampingFactor, write, writeProperty;\"\"\"\n",
    "records = neo4(q)\n",
    "cols = ['nodes', 'iterations', 'loadMillis', 'computeMillis', 'writeMillis', 'dampingFactor', 'write', 'writeProperty']\n",
    "df = pd.DataFrame.from_records(records, columns=cols)\n",
    "df.shape"
   ]
  },
  {
   "cell_type": "code",
   "execution_count": 18,
   "metadata": {},
   "outputs": [
    {
     "data": {
      "text/html": [
       "<div>\n",
       "<style scoped>\n",
       "    .dataframe tbody tr th:only-of-type {\n",
       "        vertical-align: middle;\n",
       "    }\n",
       "\n",
       "    .dataframe tbody tr th {\n",
       "        vertical-align: top;\n",
       "    }\n",
       "\n",
       "    .dataframe thead th {\n",
       "        text-align: right;\n",
       "    }\n",
       "</style>\n",
       "<table border=\"1\" class=\"dataframe\">\n",
       "  <thead>\n",
       "    <tr style=\"text-align: right;\">\n",
       "      <th></th>\n",
       "      <th>nodes</th>\n",
       "      <th>iterations</th>\n",
       "      <th>loadMillis</th>\n",
       "      <th>computeMillis</th>\n",
       "      <th>writeMillis</th>\n",
       "      <th>dampingFactor</th>\n",
       "      <th>write</th>\n",
       "      <th>writeProperty</th>\n",
       "    </tr>\n",
       "  </thead>\n",
       "  <tbody>\n",
       "    <tr>\n",
       "      <th>0</th>\n",
       "      <td>548552</td>\n",
       "      <td>20</td>\n",
       "      <td>885</td>\n",
       "      <td>435</td>\n",
       "      <td>206</td>\n",
       "      <td>0.85</td>\n",
       "      <td>True</td>\n",
       "      <td>pagerank</td>\n",
       "    </tr>\n",
       "  </tbody>\n",
       "</table>\n",
       "</div>"
      ],
      "text/plain": [
       "    nodes  iterations  loadMillis  computeMillis  writeMillis  dampingFactor  \\\n",
       "0  548552          20         885            435          206           0.85   \n",
       "\n",
       "   write writeProperty  \n",
       "0   True      pagerank  "
      ]
     },
     "execution_count": 18,
     "metadata": {},
     "output_type": "execute_result"
    }
   ],
   "source": [
    "df"
   ]
  },
  {
   "cell_type": "markdown",
   "metadata": {},
   "source": [
    "q = \"\"\"CALL algo.betweenness('Product','co_pur', {direction:'out',write:true, writeProperty:'centrality', concurrency:4})\n",
    "YIELD nodes, minCentrality, maxCentrality, sumCentrality, loadMillis, computeMillis, writeMillis;\"\"\"\n",
    "\n",
    "records = neo4(q)\n",
    "cols = ['nodes', 'minCentrality', 'maxCentrality', 'sumCentrality', 'loadMillis', 'computeMillis', 'writeMillis']\n",
    "df = pd.DataFrame.from_records(records, columns=cols)\n",
    "df.shape\n"
   ]
  },
  {
   "cell_type": "markdown",
   "metadata": {},
   "source": [
    "q = \"\"\"CALL algo.closeness('Product', 'co_pur', {write:true, writeProperty:'close_centrality', concurrency:4})\n",
    "YIELD nodes,loadMillis, computeMillis, writeMillis;\"\"\"\n",
    "records = neo4(q)\n",
    "cols = ['nodes', 'loadMillis', 'computeMillis', 'writeMillis']\n",
    "df = pd.DataFrame.from_records(records, columns=cols)\n",
    "df.shape"
   ]
  },
  {
   "cell_type": "code",
   "execution_count": null,
   "metadata": {
    "collapsed": true
   },
   "outputs": [],
   "source": []
  }
 ],
 "metadata": {
  "kernelspec": {
   "display_name": "Python 3",
   "language": "python",
   "name": "python3"
  },
  "language_info": {
   "codemirror_mode": {
    "name": "ipython",
    "version": 3
   },
   "file_extension": ".py",
   "mimetype": "text/x-python",
   "name": "python",
   "nbconvert_exporter": "python",
   "pygments_lexer": "ipython3",
   "version": "3.6.3"
  }
 },
 "nbformat": 4,
 "nbformat_minor": 2
}
