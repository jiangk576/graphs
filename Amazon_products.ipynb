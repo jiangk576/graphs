{
 "cells": [
  {
   "cell_type": "markdown",
   "metadata": {
    "collapsed": true
   },
   "source": [
    "#!/usr/bin/env python3\n",
    "#graph\n",
    "#https://networkx.github.io/documentation/latest/reference/readwrite/gml.html\n",
    "#http://snap.stanford.edu/data/index.html\n",
    "\n",
    "Use the Amazon data 0601\n",
    "\n",
    "#Product co-purchasing networks\n",
    "Name \tType \tNodes \tEdges \tDescription\n",
    "amazon0601 \tDirected \t403,394 \t3,387,388 \tAmazon product co-purchasing network from June 1 2003\n",
    "\n",
    "amazon-meta \tMetadata \t548,552 \t1,788,725 \tAmazon product metadata: product info and all reviews on around 548,552 products."
   ]
  },
  {
   "cell_type": "code",
   "execution_count": 86,
   "metadata": {
    "collapsed": true
   },
   "outputs": [],
   "source": [
    "#this is a text file which contains all the co-purchased products from Amazon on 06_01\n",
    "file = 'C:/Users/moore/Dropbox/graphs/Amazon0601.txt'\n",
    "location_gml = 'C:/Users/moore/Dropbox/graphs/Amazon.gml'\n",
    "location_pickle = 'C:/Users/moore/Dropbox/graphs/Amazon.gpickle'\n",
    "file_meta = 'C:/Users/moore/Dropbox/graphs/Amazon-meta.txt'\n",
    "pickle_meta = 'C:/Users/moore/Dropbox/graphs/AmazonMeta.p'\n",
    "\n",
    "import matplotlib.pyplot as plt\n",
    "import networkx as nx\n",
    "import pickle"
   ]
  },
  {
   "cell_type": "code",
   "execution_count": 87,
   "metadata": {
    "collapsed": true
   },
   "outputs": [],
   "source": [
    "def build_graph(file, location_gml, location_pickle):\n",
    "    nodes = {}\n",
    "    paths = []\n",
    "\n",
    "    with open(file, 'r') as f:\n",
    "        data = f.readline()\n",
    "        while data:\n",
    "            data = f.readline() \n",
    "            path = []\n",
    "            try:\n",
    "                test = data[0]\n",
    "            except:\n",
    "                test = '#'\n",
    "            \n",
    "            if test != '#':\n",
    "                links = data.split()\n",
    "                try:\n",
    "                    nodes[links[0]] += 1\n",
    "                except:\n",
    "                    nodes[links[0]] = 1\n",
    "            \n",
    "                path = links[0],links[1]\n",
    "                paths.append(path)\n",
    "   \n",
    "    graph = nx.DiGraph()\n",
    "    graph.add_edges_from(paths)\n",
    "    nx.write_gml(graph, location_gml)\n",
    "    nx.write_gpickle(graph, location_pickle)\n",
    "    return graph"
   ]
  },
  {
   "cell_type": "code",
   "execution_count": 88,
   "metadata": {
    "collapsed": true
   },
   "outputs": [],
   "source": [
    "def load_meta(file, pick_loc):\n",
    "    meta = {}\n",
    "    record = {}\n",
    "    with open(file, 'r', encoding=\"utf8\") as f:\n",
    "        data = f.readline()\n",
    "        while data:\n",
    "            data = f.readline()\n",
    "            if len(data) != 1: \n",
    "                components = data.replace('\\n','').split(':')\n",
    "                label = components[0].strip()\n",
    "                if label == 'Id':\n",
    "                    record['Id'] = components[1].strip()\n",
    "                elif label == 'ASIN':\n",
    "                    record['ASIN'] = components[1].strip()\n",
    "                elif label == 'title':\n",
    "                    record['title'] = str(components[1:]).replace(\"[\",'').replace(\"]\",'').replace(\"'\",'').strip()\n",
    "                elif label == 'group':\n",
    "                    record['group'] = components[1].strip()\n",
    "                elif label == 'salesrank':\n",
    "                    record['salesrank'] = components[1].strip()\n",
    "                elif label == 'similar':\n",
    "                    sims = components[1].split()\n",
    "                    record['similar'] = {'count': sims[0],\n",
    "                                     'sims' : sims[1:]}\n",
    "                elif label == 'categories':\n",
    "                    cats = int(components[1])\n",
    "                    categories = []\n",
    "                    for i in range(0, cats):\n",
    "                        cat = f.readline()\n",
    "                        cat_s = cat.replace('\\n','').split('|')\n",
    "                        categories.append(cat_s[1:])\n",
    "                    record['categories'] = {'count' : cats, 'values' : categories}    \n",
    "                elif label =='reviews':\n",
    "                    reviews = int(components[3].split()[0])\n",
    "                    review_list = []\n",
    "                    head_list = data.split()\n",
    "                    head = {'total' : head_list[2],\n",
    "                            'downloaded' : head_list[4],\n",
    "                            'avg rating' : head_list[7]}\n",
    "                    if reviews > 0:\n",
    "                        for i in range(0,reviews):\n",
    "                            review = f.readline()\n",
    "                            if len(review) > 20:\n",
    "                                review_data = review.replace('\\n','').split()                          \n",
    "                                rev_entry = {\n",
    "                                    'date' : review_data[0],\n",
    "                                    'customer' : review_data[2],\n",
    "                                    'rating' : review_data[4],\n",
    "                                    'votes' : review_data[6],\n",
    "                                    'helpful' : review_data[8]\n",
    "                                }\n",
    "                            review_list.append(rev_entry)\n",
    "                        record['reviews'] = {'head' : head,\n",
    "                                        'reviews' : review_list}     \n",
    "          \n",
    "            else:\n",
    "                if len(record.keys()) > 0:\n",
    "                    meta[record['Id']] = record\n",
    "                record = {}\n",
    "\n",
    "    pickle.dump(meta, open(pick_loc, 'wb'))\n",
    "    return meta"
   ]
  },
  {
   "cell_type": "code",
   "execution_count": 89,
   "metadata": {},
   "outputs": [
    {
     "name": "stdout",
     "output_type": "stream",
     "text": [
      "Trying to load from previous stored graph\n",
      "Trying to load meta data from previous data file...\n"
     ]
    }
   ],
   "source": [
    "try:\n",
    "    print(\"Trying to load from previous stored graph\")\n",
    "    graph = nx.read_gpickle(location_pickle)\n",
    "except:\n",
    "    try:\n",
    "        print(\"No data found.. trying GML stored file\")\n",
    "        graph = nx.read_gml(location_gml)\n",
    "    except:\n",
    "        print(\"no.. parsing text file and building stored files...\")\n",
    "        graph = build_graph(file,location_gml, location_pickle)\n",
    "        print('done')\n",
    "        \n",
    "try:\n",
    "    print(\"Trying to load meta data from previous data file...\")\n",
    "    meta = pickle.load(open(pickle_meta, 'rb'))  \n",
    "except:  \n",
    "    print(\"no..  parsing from text and building output file for future...\")\n",
    "    meta = load_meta(file_meta, pickle_meta)\n",
    "    print('done')"
   ]
  },
  {
   "cell_type": "code",
   "execution_count": 90,
   "metadata": {
    "collapsed": true
   },
   "outputs": [],
   "source": [
    "# Use a list comprehension to get the nodes of interest: noi\n",
    "noi = [(n,d) for n,d in graph.nodes(data=True)]\n",
    "\n",
    "# Use a list comprehension to get the edges of interest: eoi\n",
    "eoi = [(u, v, d) for u, v, d in graph.edges(data=True)]"
   ]
  },
  {
   "cell_type": "code",
   "execution_count": 91,
   "metadata": {},
   "outputs": [
    {
     "data": {
      "text/plain": [
       "(networkx.classes.digraph.DiGraph, 403394, 3387388)"
      ]
     },
     "execution_count": 91,
     "metadata": {},
     "output_type": "execute_result"
    }
   ],
   "source": [
    "type(graph), len(noi), len(eoi)"
   ]
  },
  {
   "cell_type": "code",
   "execution_count": 92,
   "metadata": {},
   "outputs": [
    {
     "data": {
      "text/plain": [
       "('1', {})"
      ]
     },
     "execution_count": 92,
     "metadata": {},
     "output_type": "execute_result"
    }
   ],
   "source": [
    "noi[1]"
   ]
  },
  {
   "cell_type": "code",
   "execution_count": 93,
   "metadata": {},
   "outputs": [
    {
     "data": {
      "text/plain": [
       "(403394, 3387388)"
      ]
     },
     "execution_count": 93,
     "metadata": {},
     "output_type": "execute_result"
    }
   ],
   "source": [
    "len(graph.nodes()), len(graph.edges())"
   ]
  },
  {
   "cell_type": "code",
   "execution_count": 94,
   "metadata": {
    "collapsed": true
   },
   "outputs": [],
   "source": [
    "from networkx.algorithms import approximation"
   ]
  },
  {
   "cell_type": "code",
   "execution_count": 95,
   "metadata": {},
   "outputs": [
    {
     "name": "stdout",
     "output_type": "stream",
     "text": [
      "Name: \n",
      "Type: DiGraph\n",
      "Number of nodes: 403394\n",
      "Number of edges: 3387388\n",
      "Average in degree:   8.3972\n",
      "Average out degree:   8.3972\n"
     ]
    }
   ],
   "source": [
    "print(nx.info(graph))"
   ]
  },
  {
   "cell_type": "code",
   "execution_count": 96,
   "metadata": {},
   "outputs": [
    {
     "data": {
      "text/plain": [
       "2.0816473245108078e-05"
      ]
     },
     "execution_count": 96,
     "metadata": {},
     "output_type": "execute_result"
    }
   ],
   "source": [
    "nx.density(graph)"
   ]
  },
  {
   "cell_type": "code",
   "execution_count": 97,
   "metadata": {},
   "outputs": [
    {
     "data": {
      "text/plain": [
       "True"
      ]
     },
     "execution_count": 97,
     "metadata": {},
     "output_type": "execute_result"
    }
   ],
   "source": [
    "nx.is_directed(graph)"
   ]
  },
  {
   "cell_type": "code",
   "execution_count": 98,
   "metadata": {},
   "outputs": [
    {
     "data": {
      "text/plain": [
       "('1', {})"
      ]
     },
     "execution_count": 98,
     "metadata": {},
     "output_type": "execute_result"
    }
   ],
   "source": [
    "noi[1]"
   ]
  },
  {
   "cell_type": "code",
   "execution_count": 99,
   "metadata": {},
   "outputs": [
    {
     "data": {
      "text/plain": [
       "('0', '2', {})"
      ]
     },
     "execution_count": 99,
     "metadata": {},
     "output_type": "execute_result"
    }
   ],
   "source": [
    "eoi[1]"
   ]
  },
  {
   "cell_type": "code",
   "execution_count": 100,
   "metadata": {
    "collapsed": true
   },
   "outputs": [],
   "source": [
    "neighbours = list(nx.all_neighbors(graph, '50000'))"
   ]
  },
  {
   "cell_type": "code",
   "execution_count": 131,
   "metadata": {},
   "outputs": [
    {
     "name": "stdout",
     "output_type": "stream",
     "text": [
      "50000 0961710438 Traveling Jewish in America,  The Complete Guide for Business & Pleasure\n",
      "Neighbors\n",
      "44713 033519883X Changing Academic Work,  Developing the Learning University\n",
      "44715 0452283523 Churchill,  A Biography\n",
      "44717 0816041369 Heritage of Scotland,  A Cultural History of Scotland & Its People\n",
      "44718 0590447874 Two-minute Mysteries (Apple Paperbacks)\n",
      "49998 0471153001 Foundations of Image Science\n",
      "50003 0688175694 The Notorious Dr. August,  His Real Life and Crimes\n",
      "12918 1581690738 Take Your Hat Off Son!\n",
      "44713 033519883X Changing Academic Work,  Developing the Learning University\n",
      "44714 0283992573 The Wonder That Was India\n",
      "44715 0452283523 Churchill,  A Biography\n",
      "44717 0816041369 Heritage of Scotland,  A Cultural History of Scotland & Its People\n",
      "44718 0590447874 Two-minute Mysteries (Apple Paperbacks)\n",
      "49998 0471153001 Foundations of Image Science\n",
      "49999 B00004TGQX Party Tyme Karaoke,  Country\n",
      "50003 0688175694 The Notorious Dr. August,  His Real Life and Crimes\n",
      "83742 0141185465 All My Sons,  A Drama in 3 Acts (Penguin Twentieth-Century Classics)\n"
     ]
    }
   ],
   "source": [
    "print('50000', meta['50000']['ASIN'], meta['50000']['title'])\n",
    "print('Neighbors')\n",
    "for neighbour in neighbours:\n",
    "    if (int(neighbour) > 0):\n",
    "        try:\n",
    "            print(neighbour, meta[neighbour]['ASIN'], meta[neighbour]['title'])\n",
    "        except:\n",
    "            continue"
   ]
  },
  {
   "cell_type": "code",
   "execution_count": 102,
   "metadata": {
    "collapsed": true
   },
   "outputs": [],
   "source": [
    "a = list(graph.nodes(data=False))"
   ]
  },
  {
   "cell_type": "code",
   "execution_count": 103,
   "metadata": {
    "collapsed": true
   },
   "outputs": [],
   "source": [
    "H = graph.subgraph(a[1:90])"
   ]
  },
  {
   "cell_type": "code",
   "execution_count": 104,
   "metadata": {},
   "outputs": [
    {
     "data": {
      "image/png": "[encoded data removed]",
      "text/plain": [
       "<matplotlib.figure.Figure at 0x1cae5b50240>"
      ]
     },
     "metadata": {},
     "output_type": "display_data"
    }
   ],
   "source": [
    "nx.draw(H)\n",
    "plt.show()"
   ]
  },
  {
   "cell_type": "code",
   "execution_count": 125,
   "metadata": {},
   "outputs": [
    {
     "data": {
      "image/png": "[encoded data removed]",
      "text/plain": [
       "<matplotlib.figure.Figure at 0x1ca870007f0>"
      ]
     },
     "metadata": {},
     "output_type": "display_data"
    }
   ],
   "source": [
    "# Import necessary modules\n",
    "import matplotlib.pyplot as plt\n",
    "import networkx as nx \n",
    "\n",
    "# Plot the degree distribution of the GitHub collaboration network\n",
    "plt.hist(list(nx.degree_centrality(H).values()))\n",
    "plt.title('Degree Centrality of a sub-graph (50 nodes)')\n",
    "plt.xlabel('Degree')\n",
    "plt.ylabel('Nodes')\n",
    "plt.show()"
   ]
  },
  {
   "cell_type": "code",
   "execution_count": 127,
   "metadata": {},
   "outputs": [
    {
     "data": {
      "image/png": "[encoded data removed]",
      "text/plain": [
       "<matplotlib.figure.Figure at 0x1ca8559e0f0>"
      ]
     },
     "metadata": {},
     "output_type": "display_data"
    }
   ],
   "source": [
    "# Import necessary modules\n",
    "import matplotlib.pyplot as plt\n",
    "import networkx as nx\n",
    "\n",
    "# Plot the degree distribution of the GitHub collaboration network\n",
    "plt.hist(list(nx.betweenness_centrality(H).values()))\n",
    "plt.title('Betweenness Centrality - subgraph with 50 nodes')\n",
    "plt.xlabel('Centrality')\n",
    "plt.ylabel('Nodes')\n",
    "plt.show()"
   ]
  },
  {
   "cell_type": "code",
   "execution_count": 122,
   "metadata": {},
   "outputs": [
    {
     "data": {
      "image/png": "[encoded data removed]",
      "text/plain": [
       "<matplotlib.figure.Figure at 0x1ca857fac50>"
      ]
     },
     "metadata": {},
     "output_type": "display_data"
    }
   ],
   "source": [
    "# Extract the nodes of interest: nodes\n",
    "#nodes = [n for n, d in graph.nodes(data=True) if d['values'] == 2.5]\n",
    "nodes = [n for n, d in H.nodes(data=True)]\n",
    "# Create the set of nodes: nodeset\n",
    "nodeset = set(nodes)\n",
    "\n",
    "# Iterate over nodes\n",
    "for n in nodes:\n",
    "\n",
    "    # Compute the neighbors of n: nbrs\n",
    "    nbrs = H.neighbors(n)\n",
    "    \n",
    "    # Compute the union of nodeset and nbrs: nodeset\n",
    "    nodeset = nodeset.union(nbrs)\n",
    "\n",
    "# Compute the subgraph using nodeset: T_sub\n",
    "T_sub = H.subgraph(nodeset)\n",
    "\n",
    "# Draw T_sub to the screen\n",
    "nx.draw(T_sub, with_labels=False)\n",
    "plt.show()"
   ]
  },
  {
   "cell_type": "code",
   "execution_count": 123,
   "metadata": {},
   "outputs": [
    {
     "data": {
      "image/png": "[encoded data removed]",
      "text/plain": [
       "<matplotlib.figure.Figure at 0x1ca857f52b0>"
      ]
     },
     "metadata": {},
     "output_type": "display_data"
    }
   ],
   "source": [
    "nx.draw_networkx(H, pos=None, arrows=False, with_labels=False)\n",
    "plt.show()"
   ]
  },
  {
   "cell_type": "code",
   "execution_count": 109,
   "metadata": {},
   "outputs": [
    {
     "data": {
      "text/plain": [
       "DiDegreeView({'1': 11, '2': 11, '3': 11, '4': 23, '5': 40, '6': 32, '7': 10, '8': 13, '9': 23, '10': 13, '155': 10, '185': 11, '233': 6, '234': 9, '235': 10, '3943': 6, '47': 22, '54': 16, '118': 11, '355': 13, '34': 12, '44': 29, '4954': 2, '4955': 7, '36': 19, '48': 27, '58': 19, '106': 18, '1032': 10, '1033': 10, '46': 22, '49': 10, '50': 10, '51': 16, '52': 7, '53': 8, '55': 15, '56': 7, '57': 14, '108': 18, '1521': 14, '1522': 11, '59': 5, '60': 11, '61': 4, '62': 14, '63': 10, '15328': 9, '1034': 8, '1035': 11, '11': 13, '12': 33, '13': 17, '14': 20, '15': 8, '16': 11, '17': 3, '18': 3, '19': 18, '20': 20, '21': 11, '24': 12, '26': 20, '27': 19, '30': 12, '31': 18, '209': 7, '22': 12, '23': 11, '25': 10, '64': 3, '65': 3, '66': 10, '67': 10, '74': 16, '75': 8, '76': 10, '134': 13, '1107': 9, '69': 9, '105': 13, '401': 5, '443': 1, '1590': 1, '78': 9, '266': 4, '451': 2, '1148': 3, '2440': 3})"
      ]
     },
     "execution_count": 109,
     "metadata": {},
     "output_type": "execute_result"
    }
   ],
   "source": [
    "nx.degree(H, nbunch=None, weight=None)"
   ]
  },
  {
   "cell_type": "code",
   "execution_count": 110,
   "metadata": {},
   "outputs": [
    {
     "data": {
      "text/plain": [
       "(0.06945863125638406, 2.0816473245108078e-05)"
      ]
     },
     "execution_count": 110,
     "metadata": {},
     "output_type": "execute_result"
    }
   ],
   "source": [
    "nx.density(H), nx.density(graph)"
   ]
  },
  {
   "cell_type": "code",
   "execution_count": 111,
   "metadata": {},
   "outputs": [
    {
     "name": "stdout",
     "output_type": "stream",
     "text": [
      "Name: \n",
      "Type: SubDiGraph\n",
      "Number of nodes: 89\n",
      "Number of edges: 544\n",
      "Average in degree:   6.1124\n",
      "Average out degree:   6.1124\n"
     ]
    }
   ],
   "source": [
    "print(nx.info(H))"
   ]
  },
  {
   "cell_type": "code",
   "execution_count": 112,
   "metadata": {},
   "outputs": [
    {
     "data": {
      "text/plain": [
       "89"
      ]
     },
     "execution_count": 112,
     "metadata": {},
     "output_type": "execute_result"
    }
   ],
   "source": [
    "nx.number_of_nodes(H)"
   ]
  },
  {
   "cell_type": "code",
   "execution_count": 113,
   "metadata": {},
   "outputs": [
    {
     "name": "stdout",
     "output_type": "stream",
     "text": [
      "['5', '44', '49', '52', '57', '105', '106', '49', '52', '105']\n"
     ]
    }
   ],
   "source": [
    "print(list(nx.all_neighbors(H, '50')))"
   ]
  },
  {
   "cell_type": "code",
   "execution_count": 114,
   "metadata": {},
   "outputs": [
    {
     "data": {
      "text/plain": [
       "0"
      ]
     },
     "execution_count": 114,
     "metadata": {},
     "output_type": "execute_result"
    }
   ],
   "source": [
    "nx.number_of_selfloops(H)"
   ]
  },
  {
   "cell_type": "code",
   "execution_count": 115,
   "metadata": {
    "collapsed": true
   },
   "outputs": [],
   "source": [
    "from networkx.algorithms import approximation as approx"
   ]
  },
  {
   "cell_type": "code",
   "execution_count": 116,
   "metadata": {},
   "outputs": [
    {
     "data": {
      "text/plain": [
       "0"
      ]
     },
     "execution_count": 116,
     "metadata": {},
     "output_type": "execute_result"
    }
   ],
   "source": [
    "approx.node_connectivity(H)"
   ]
  },
  {
   "cell_type": "code",
   "execution_count": 117,
   "metadata": {},
   "outputs": [
    {
     "data": {
      "text/plain": [
       "{'12', '20', '209', '27', '30'}"
      ]
     },
     "execution_count": 117,
     "metadata": {},
     "output_type": "execute_result"
    }
   ],
   "source": [
    "approx.max_clique(H)"
   ]
  },
  {
   "cell_type": "code",
   "execution_count": 118,
   "metadata": {},
   "outputs": [
    {
     "name": "stdout",
     "output_type": "stream",
     "text": [
      "['12', '20', '22', '27', '69', '209', '401', '12', '20', '27', '64', '209']\n"
     ]
    }
   ],
   "source": [
    "print(list(nx.all_neighbors(H, '30')))"
   ]
  },
  {
   "cell_type": "code",
   "execution_count": 119,
   "metadata": {
    "collapsed": true
   },
   "outputs": [],
   "source": [
    "a=nx.degree_centrality(H)\n",
    "b=nx.in_degree_centrality(H)\n",
    "c=nx.out_degree_centrality(H)"
   ]
  },
  {
   "cell_type": "code",
   "execution_count": 120,
   "metadata": {
    "collapsed": true
   },
   "outputs": [],
   "source": [
    "from networkx.algorithms import community"
   ]
  },
  {
   "cell_type": "code",
   "execution_count": 121,
   "metadata": {
    "collapsed": true
   },
   "outputs": [],
   "source": [
    "#cen = nx.center(graph) #Return the center of the graph G.\n",
    "#dia=nx.diameter(H)#Return the diameter of the graph G.\n",
    "#ec=nx.eccentricity(H) #Return the eccentricity of nodes in G.\n",
    "#per=nx.periphery(H) #Return the periphery of the graph G.\n",
    "#rad=nx.radius(H) #Return the radius of the graph G."
   ]
  },
  {
   "cell_type": "code",
   "execution_count": 1,
   "metadata": {
    "collapsed": true
   },
   "outputs": [],
   "source": [
    "from neo4j.v1 import GraphDatabase"
   ]
  },
  {
   "cell_type": "code",
   "execution_count": 152,
   "metadata": {},
   "outputs": [],
   "source": [
    "from neo4jrestclient.client import GraphDatabase\n",
    "from neo4jrestclient.constants import RAW\n",
    "from neo4jrestclient.client import Node \n",
    "from urllib.parse import urlparse\n",
    "import re, json"
   ]
  },
  {
   "cell_type": "code",
   "execution_count": 153,
   "metadata": {},
   "outputs": [],
   "source": [
    "#https://gist.github.com/coolgarifTech/5671071\n",
    "#functions are from https://gist.github.com/coolgarifTech/5671071 \n",
    "#please ensure to recognise the authors at coolgarifTech for their work and rights\n",
    "\n",
    "def getNodes(db):\n",
    "    q = \"START n=node(*) RETURN n\"\n",
    "    params = {}\n",
    "    querySquenceObject = db.query(q, params=params, returns=RAW)\t\n",
    " \n",
    "    #Blank list to hold the JSON\n",
    "    nodeJSON = []\n",
    "\n",
    "    # Iterating over the resposes from the graph db\n",
    "    # NOTE:Excluding the ROOT NODE from RETURN!!!!\n",
    "    for node in querySquenceObject[1:]:\n",
    "            n = node.pop()\n",
    "            data = n.get('data')\n",
    "            name = data.get('name')\n",
    "            description = data.get('description')\n",
    "\n",
    "            self = n.get('self')\n",
    "            self = urlparse(self)\n",
    "            uid = doRegEX(self)\n",
    "\n",
    "            nodeJSON.append(createNodeJSON(name, uid, description))\n",
    "\n",
    "    return nodeJSON\n",
    "\n",
    "def doRegEX(urlString):\n",
    "    regex = re.compile(\"([^/]*)$\")\n",
    "    stripedURLComponent = regex.search(urlString.path)\n",
    "    return stripedURLComponent.group(0)\n",
    "\n",
    "def createNodeJSON(name, uid, description):\t\n",
    "    JSONObject = {\n",
    "        'name': name,\n",
    "        'id' : uid,\n",
    "        'description' : description\n",
    "    }\n",
    "    return JSONObject\n",
    "\n",
    "def getRels(db):\n",
    "    q = \"MATCH p=()-[r:Knows]->() RETURN p\"\n",
    "\n",
    "    params = {}\n",
    "    querySquenceObject = db.query(q, params=params, returns=RAW)\n",
    "\n",
    "    #Blank list to hold the JSON\n",
    "    relsJSON = []\n",
    "\n",
    "    for rel in querySquenceObject:\n",
    "        r = rel.pop()\n",
    "        start = r.get('start')\n",
    "        end = r.get('end')\n",
    "\n",
    "        start = urlparse(start)\n",
    "        end = urlparse(end)\n",
    "\n",
    "        startNode = doRegEX(start)\n",
    "        endNode = doRegEX(end)\n",
    "\n",
    "        relsJSON.append(createRelsJSON(startNode, endNode))\n",
    "\n",
    "    return relsJSON\n",
    "\n",
    "def createRelsJSON(startNode, endNode):\n",
    "    JSONObject = {\n",
    "        'startNode' : startNode,\n",
    "        'endNode' : endNode\n",
    "    }\n",
    "    return JSONObject"
   ]
  },
  {
   "cell_type": "code",
   "execution_count": 354,
   "metadata": {},
   "outputs": [
    {
     "name": "stdout",
     "output_type": "stream",
     "text": [
      "{'nodes': [], 'rels': []}\n"
     ]
    }
   ],
   "source": [
    "# create DB connection\n",
    "db = GraphDatabase(\"http://localhost:7474/db/data\")\n",
    "\n",
    "nodes = getNodes(db)\n",
    "rels = getRels(db)\n",
    "\n",
    "result = {\n",
    "    'nodes' : nodes,\n",
    "    'rels' : rels}\n",
    "\n",
    "\n",
    "print(result)"
   ]
  },
  {
   "cell_type": "code",
   "execution_count": 352,
   "metadata": {},
   "outputs": [
    {
     "name": "stdout",
     "output_type": "stream",
     "text": [
      "Number of nodes created\n",
      "2\n",
      "Number of relationships created\n",
      "1\n"
     ]
    }
   ],
   "source": [
    "number_of_nodes = len(nodes)\n",
    "number_of_relationships = len(rels)\n",
    "                        \n",
    "print (\"Number of nodes created\")\n",
    "print (number_of_nodes)\n",
    "print (\"Number of relationships created\")\n",
    "print (number_of_relationships)"
   ]
  },
  {
   "cell_type": "code",
   "execution_count": 353,
   "metadata": {},
   "outputs": [
    {
     "name": "stdout",
     "output_type": "stream",
     "text": [
      "80\n",
      "81\n"
     ]
    }
   ],
   "source": [
    "#delete all nodes and clear the database\n",
    "for no in nodes:\n",
    "    n = db.node[int(no['id'])]\n",
    "    print (no['id'])\n",
    "    try:\n",
    "        n.delete()\n",
    "    except:\n",
    "        rel = n.relationships.all()\n",
    "        for r in rel:\n",
    "            r.delete()\n",
    "        n.delete()    \n",
    " \n",
    "   "
   ]
  },
  {
   "cell_type": "code",
   "execution_count": 345,
   "metadata": {
    "collapsed": true
   },
   "outputs": [],
   "source": [
    "gdb = db"
   ]
  },
  {
   "cell_type": "code",
   "execution_count": 346,
   "metadata": {
    "collapsed": true
   },
   "outputs": [],
   "source": [
    "alice = gdb.nodes.create(name=\"Alice\", age=30)"
   ]
  },
  {
   "cell_type": "code",
   "execution_count": 347,
   "metadata": {
    "collapsed": true
   },
   "outputs": [],
   "source": [
    "bob = gdb.nodes.create(name=\"Bob\", age=30)"
   ]
  },
  {
   "cell_type": "code",
   "execution_count": 348,
   "metadata": {},
   "outputs": [
    {
     "data": {
      "text/plain": [
       "<Neo4j Relationship: http://localhost:7474/db/data/relationship/24>"
      ]
     },
     "execution_count": 348,
     "metadata": {},
     "output_type": "execute_result"
    }
   ],
   "source": [
    "alice.relationships.create(\"Knows\", bob, since=1980)"
   ]
  },
  {
   "cell_type": "code",
   "execution_count": 349,
   "metadata": {
    "collapsed": true
   },
   "outputs": [],
   "source": [
    "alice['rating'] = 'deep'"
   ]
  },
  {
   "cell_type": "code",
   "execution_count": 350,
   "metadata": {
    "collapsed": true
   },
   "outputs": [],
   "source": [
    "bob['rating'] = 'none'"
   ]
  },
  {
   "cell_type": "code",
   "execution_count": 311,
   "metadata": {},
   "outputs": [
    {
     "data": {
      "text/plain": [
       "dict_items([('name', 'Alice'), ('age', 30), ('rating', 'deep')])"
      ]
     },
     "execution_count": 311,
     "metadata": {},
     "output_type": "execute_result"
    }
   ],
   "source": [
    "alice.items()"
   ]
  },
  {
   "cell_type": "code",
   "execution_count": 310,
   "metadata": {},
   "outputs": [],
   "source": [
    "del alice['beauty']\n",
    "del bob['beauty']"
   ]
  },
  {
   "cell_type": "code",
   "execution_count": null,
   "metadata": {
    "collapsed": true
   },
   "outputs": [],
   "source": []
  }
 ],
 "metadata": {
  "kernelspec": {
   "display_name": "Python 3",
   "language": "python",
   "name": "python3"
  },
  "language_info": {
   "codemirror_mode": {
    "name": "ipython",
    "version": 3
   },
   "file_extension": ".py",
   "mimetype": "text/x-python",
   "name": "python",
   "nbconvert_exporter": "python",
   "pygments_lexer": "ipython3",
   "version": "3.6.3"
  }
 },
 "nbformat": 4,
 "nbformat_minor": 2
}
